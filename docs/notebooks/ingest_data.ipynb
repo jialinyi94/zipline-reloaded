{
 "cells": [
  {
   "cell_type": "markdown",
   "metadata": {},
   "source": [
    "# Quandl\n",
    "\n",
    "```bash\n",
    "export QUANDL_API_KEY=\"your key\"\n",
    "```"
   ]
  },
  {
   "cell_type": "code",
   "execution_count": null,
   "metadata": {},
   "outputs": [],
   "source": [
    "from zipline.data.bundles import register, ingest\n",
    "from zipline.data.bundles.quandl import quandl_bundle\n",
    "\n",
    "# 注册 Quandl bundle\n",
    "register(\n",
    "    'quandl',\n",
    "    quandl_bundle,\n",
    "    calendar_name='NYSE',\n",
    ")\n",
    "\n",
    "# 执行 ingest\n",
    "ingest('quandl')"
   ]
  },
  {
   "cell_type": "markdown",
   "metadata": {},
   "source": [
    "# Yahoo-finance"
   ]
  },
  {
   "cell_type": "code",
   "execution_count": null,
   "metadata": {},
   "outputs": [],
   "source": [
    "\"\"\"\n",
    "Ingesting data from CSV files\n",
    "\n",
    "https://zipline-trader.readthedocs.io/en/latest/bundles.html#ingesting-data-from-csv-files\n",
    "\"\"\"\n",
    "\n",
    "import yfinance as yf\n",
    "import pandas as pd\n",
    "import tqdm\n",
    "import os\n",
    "\n",
    "\n",
    "def download_from_yahoo(\n",
    "    *symbols: str,\n",
    "    start_date: str | pd.Timestamp,\n",
    "    end_date: str | pd.Timestamp,\n",
    "    data_dir: str,\n",
    "):\n",
    "    tframe = 'daily'  # 只支持日线数据\n",
    "    # 从yfinance下载数据\n",
    "    data = yf.download(\n",
    "        symbols,\n",
    "        start=start_date,\n",
    "        end=end_date,\n",
    "        group_by='ticker',\n",
    "    )\n",
    "\n",
    "    # 转换为Zipline所需格式\n",
    "    for symbol in tqdm.tqdm(symbols, desc='Processing'):\n",
    "        symbol_data: pd.DataFrame = data[symbol].reset_index()\n",
    "        symbol_data.rename(\n",
    "            columns={\n",
    "                'Date': 'date',\n",
    "                'Open': 'open',\n",
    "                'High': 'high',\n",
    "                'Low': 'low',\n",
    "                'Close': 'close',\n",
    "                'Volume': 'volume',\n",
    "                # 'Adj Close': 'adj_close'\n",
    "            },\n",
    "            inplace=True\n",
    "        )\n",
    "        parent_dir = os.path.expanduser(f'{data_dir}/{tframe}')\n",
    "        os.makedirs(parent_dir, exist_ok=True)\n",
    "        symbol_data.to_csv(f'{parent_dir}/{symbol}.csv', index=False)\n",
    "    return os.path.expanduser(data_dir)\n",
    "\n",
    "\n",
    "if __name__ == '__main__':\n",
    "    from zipline.data.bundles import register, ingest\n",
    "    from zipline.data.bundles.csvdir import csvdir_equities\n",
    "\n",
    "    dji = [\n",
    "        'AAPL', 'AXP', 'BA', 'CAT', 'CSCO', 'CVX', 'DIS', 'DOW', 'GS', 'HD',\n",
    "        'IBM',\n",
    "        'INTC', 'JNJ', 'JPM', 'KO', 'MCD', 'MMM', 'MRK', 'MSFT', 'NKE', 'PFE',\n",
    "        'PG', 'TRV', 'UNH', 'V', 'VZ', 'WBA', 'WMT', 'XOM'\n",
    "    ]\n",
    "\n",
    "    data_dir = '~/.data/yahoo'\n",
    "    start_date = pd.Timestamp('2000-01-03')\n",
    "    end_date = pd.Timestamp('2025-03-20')\n",
    "\n",
    "    csvs_dir = download_from_yahoo(\n",
    "        *dji, start_date=start_date, end_date=end_date, data_dir=data_dir\n",
    "    )\n",
    "    ingest_fn = csvdir_equities(['daily'], csvs_dir)\n",
    "    register(\n",
    "        'yahoo',\n",
    "        ingest_fn,\n",
    "        calendar_name='NYSE',  # US equities\n",
    "        start_session=start_date,\n",
    "        end_session=end_date,\n",
    "    )\n",
    "\n",
    "    ingest('yahoo', show_progress=True)\n"
   ]
  }
 ],
 "metadata": {
  "kernelspec": {
   "display_name": "base",
   "language": "python",
   "name": "python3"
  },
  "language_info": {
   "codemirror_mode": {
    "name": "ipython",
    "version": 3
   },
   "file_extension": ".py",
   "mimetype": "text/x-python",
   "name": "python",
   "nbconvert_exporter": "python",
   "pygments_lexer": "ipython3",
   "version": "3.12.9"
  }
 },
 "nbformat": 4,
 "nbformat_minor": 2
}
