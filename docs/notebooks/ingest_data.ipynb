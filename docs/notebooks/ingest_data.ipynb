{
 "cells": [
  {
   "cell_type": "markdown",
   "metadata": {},
   "source": [
    "# Quandl\n",
    "\n",
    "```bash\n",
    "export QUANDL_API_KEY=\"your key\"\n",
    "```"
   ]
  },
  {
   "cell_type": "code",
   "execution_count": null,
   "metadata": {},
   "outputs": [],
   "source": [
    "from zipline.data.bundles import register, ingest\n",
    "from zipline.data.bundles.quandl import quandl_bundle\n",
    "\n",
    "# 注册 Quandl bundle\n",
    "register(\n",
    "    'quandl',\n",
    "    quandl_bundle,\n",
    "    calendar_name='NYSE',\n",
    ")\n",
    "\n",
    "# 执行 ingest\n",
    "ingest('quandl')"
   ]
  }
 ],
 "metadata": {
  "kernelspec": {
   "display_name": "algotrading",
   "language": "python",
   "name": "python3"
  },
  "language_info": {
   "codemirror_mode": {
    "name": "ipython",
    "version": 3
   },
   "file_extension": ".py",
   "mimetype": "text/x-python",
   "name": "python",
   "nbconvert_exporter": "python",
   "pygments_lexer": "ipython3",
   "version": "3.12.9"
  }
 },
 "nbformat": 4,
 "nbformat_minor": 2
}
